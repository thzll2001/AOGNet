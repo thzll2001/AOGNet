{
  "cells": [
    {
      "cell_type": "code",
      "execution_count": null,
      "metadata": {
        "id": "dFNfVV24ojrJ"
      },
      "outputs": [],
      "source": [
        "# Transformers installation\n",
        "! pip install transformers datasets\n",
        "# To install from source instead of the last release, comment the command above and uncomment the following one.\n",
        "# ! pip install git+https://github.com/huggingface/transformers.git"
      ]
    },
    {
      "cell_type": "markdown",
      "metadata": {
        "id": "TyNgv4sbojrL"
      },
      "source": [
        "# Text to speech"
      ]
    },
    {
      "cell_type": "markdown",
      "metadata": {
        "id": "6A6zhgMVojrM"
      },
      "source": [
        "Text-to-speech (TTS) is the task of creating natural-sounding speech from text, where the speech can be generated in multiple\n",
        "languages and for multiple speakers. The only text-to-speech model currently available in 🤗 Transformers\n",
        "is [SpeechT5](https://huggingface.co/docs/transformers/main/en/tasks/model_doc/speecht5), though more will be added in the future. SpeechT5 is pre-trained on a combination of\n",
        "speech-to-text and text-to-speech data, allowing it to learn a unified space of hidden representations shared by both text\n",
        "and speech. This means that the same pre-trained model can be fine-tuned for different tasks. Furthermore, SpeechT5\n",
        "supports multiple speakers through x-vector speaker embeddings.\n",
        "\n",
        "This guide illustrates how to:\n",
        "\n",
        "1. Fine-tune [SpeechT5](https://huggingface.co/docs/transformers/main/en/tasks/model_doc/speecht5) that was originally trained on English speech on the Dutch (`nl`) language subset of the [VoxPopuli](https://huggingface.co/datasets/facebook/voxpopuli) dataset.\n",
        "2. Use your fine-tuned model for inference.\n",
        "\n",
        "Before you begin, make sure you have all the necessary libraries installed:\n",
        "\n",
        "```bash\n",
        "pip install datasets soundfile speechbrain accelerate\n",
        "```\n",
        "\n",
        "Install 🤗Transformers from source as not all the SpeechT5 features have been merged into an official release yet:\n",
        "\n",
        "```bash\n",
        "pip install git+https://github.com/huggingface/transformers.git\n",
        "```\n",
        "\n",
        "<Tip>\n",
        "\n",
        "To follow this guide you will need a GPU. If you're working in a notebook, run the following line to check if a GPU is available:\n",
        "\n",
        "```bash\n",
        "!nvidia-smi\n",
        "```\n",
        "\n",
        "</Tip>\n",
        "\n",
        "We encourage you to log in to your Hugging Face account to upload and share your model with the community. When prompted, enter your token to log in:"
      ]
    },
    {
      "cell_type": "code",
      "execution_count": null,
      "metadata": {
        "id": "slQCxgdEojrN"
      },
      "outputs": [],
      "source": [
        "from huggingface_hub import notebook_login\n",
        "\n",
        "notebook_login()"
      ]
    },
    {
      "cell_type": "markdown",
      "metadata": {
        "id": "jDbgFAl9ojrN"
      },
      "source": [
        "## Load the dataset"
      ]
    },
    {
      "cell_type": "markdown",
      "metadata": {
        "id": "QUcyCHlPojrN"
      },
      "source": [
        "[VoxPopuli](https://huggingface.co/datasets/facebook/voxpopuli) is a large-scale multilingual speech corpus consisting of\n",
        "data sourced from 2009-2020 European Parliament event recordings. It contains labelled audio-transcription data for 15\n",
        "European languages. In this guide, we are using the Dutch language subset, feel free to pick another subset.\n",
        "\n",
        "Note that VoxPopuli or any other automated speech recognition (ASR) dataset may not be the most suitable\n",
        "option for training TTS models. The features that make it beneficial for ASR, such as excessive background noise, are\n",
        "typically undesirable in TTS. However, finding top-quality, multilingual, and multi-speaker TTS datasets can be quite\n",
        "challenging.\n",
        "\n",
        "Let's load the data:"
      ]
    },
    {
      "cell_type": "code",
      "execution_count": null,
      "metadata": {
        "id": "hnUSt25KojrO",
        "outputId": "d8df3521-8a14-416e-8f89-71c4d28123cb"
      },
      "outputs": [
        {
          "data": {
            "text/plain": [
              "20968"
            ]
          },
          "execution_count": null,
          "metadata": {},
          "output_type": "execute_result"
        }
      ],
      "source": [
        "from datasets import load_dataset, Audio\n",
        "\n",
        "dataset = load_dataset(\"facebook/voxpopuli\", \"nl\", split=\"train\")\n",
        "len(dataset)"
      ]
    },
    {
      "cell_type": "markdown",
      "metadata": {
        "id": "XAoghPVLojrP"
      },
      "source": [
        "20968 examples should be sufficient for fine-tuning. SpeechT5 expects audio data to have a sampling rate of 16 kHz, so\n",
        "make sure the examples in the dataset meet this requirement:"
      ]
    },
    {
      "cell_type": "code",
      "execution_count": null,
      "metadata": {
        "id": "uAAzzENTojrP"
      },
      "outputs": [],
      "source": [
        "dataset = dataset.cast_column(\"audio\", Audio(sampling_rate=16000))"
      ]
    },
    {
      "cell_type": "markdown",
      "metadata": {
        "id": "neIaR4q0ojrQ"
      },
      "source": [
        "## Preprocess the data"
      ]
    },
    {
      "cell_type": "markdown",
      "metadata": {
        "id": "bze0Os2kojrQ"
      },
      "source": [
        "Let's begin by defining the model checkpoint to use and loading the appropriate processor:"
      ]
    },
    {
      "cell_type": "code",
      "execution_count": null,
      "metadata": {
        "id": "ZlfxnJ7ZojrQ"
      },
      "outputs": [],
      "source": [
        "from transformers import SpeechT5Processor\n",
        "\n",
        "checkpoint = \"microsoft/speecht5_tts\"\n",
        "processor = SpeechT5Processor.from_pretrained(checkpoint)"
      ]
    },
    {
      "cell_type": "markdown",
      "metadata": {
        "id": "XhM8iFEvojrQ"
      },
      "source": [
        "### Text cleanup for SpeechT5 tokenization"
      ]
    },
    {
      "cell_type": "markdown",
      "metadata": {
        "id": "K6drPUYvojrQ"
      },
      "source": [
        "Start by cleaning up the text data. You'll need the tokenizer part of the processor to process the text:"
      ]
    },
    {
      "cell_type": "code",
      "execution_count": null,
      "metadata": {
        "id": "ACO7meVjojrR"
      },
      "outputs": [],
      "source": [
        "tokenizer = processor.tokenizer"
      ]
    },
    {
      "cell_type": "markdown",
      "metadata": {
        "id": "zM_vvazgojrR"
      },
      "source": [
        "The dataset examples contain `raw_text` and `normalized_text` features. When deciding which feature to use as the text input,\n",
        "consider that the SpeechT5 tokenizer doesn't have any tokens for numbers. In `normalized_text` the numbers are written\n",
        "out as text. Thus, it is a better fit, and we recommend using    `normalized_text` as input text.\n",
        "\n",
        "Because SpeechT5 was trained on the English language, it may not recognize certain characters in the Dutch dataset. If\n",
        "left as is, these characters will be converted to `<unk>` tokens. However, in Dutch, certain characters like `à` are\n",
        "used to stress syllables. In order to preserve the meaning of the text, we can replace this character with a regular `a`.\n",
        "\n",
        "To identify unsupported tokens, extract all unique characters in the dataset using the `SpeechT5Tokenizer` which\n",
        "works with characters as tokens. To do this, write the `extract_all_chars` mapping function that concatenates\n",
        "the transcriptions from all examples into one string and converts it to a set of characters.\n",
        "Make sure to set `batched=True` and `batch_size=-1` in `dataset.map()` so that all transcriptions are available at once for\n",
        "the mapping function."
      ]
    },
    {
      "cell_type": "code",
      "execution_count": null,
      "metadata": {
        "id": "uAsEM4udojrR"
      },
      "outputs": [],
      "source": [
        "def extract_all_chars(batch):\n",
        "    all_text = \" \".join(batch[\"normalized_text\"])\n",
        "    vocab = list(set(all_text))\n",
        "    return {\"vocab\": [vocab], \"all_text\": [all_text]}\n",
        "\n",
        "\n",
        "vocabs = dataset.map(\n",
        "    extract_all_chars,\n",
        "    batched=True,\n",
        "    batch_size=-1,\n",
        "    keep_in_memory=True,\n",
        "    remove_columns=dataset.column_names,\n",
        ")\n",
        "\n",
        "dataset_vocab = set(vocabs[\"vocab\"][0])\n",
        "tokenizer_vocab = {k for k, _ in tokenizer.get_vocab().items()}"
      ]
    },
    {
      "cell_type": "markdown",
      "metadata": {
        "id": "FhgoAjLAojrR"
      },
      "source": [
        "Now you have two sets of characters: one with the vocabulary from the dataset and one with the vocabulary from the tokenizer.\n",
        "To identify any unsupported characters in the dataset, you can take the difference between these two sets. The resulting\n",
        "set will contain the characters that are in the dataset but not in the tokenizer."
      ]
    },
    {
      "cell_type": "code",
      "execution_count": null,
      "metadata": {
        "id": "zoyXISw7ojrR",
        "outputId": "10d892b3-1b97-42cd-8a1f-5c7735742944"
      },
      "outputs": [
        {
          "data": {
            "text/plain": [
              "{' ', 'à', 'ç', 'è', 'ë', 'í', 'ï', 'ö', 'ü'}"
            ]
          },
          "execution_count": null,
          "metadata": {},
          "output_type": "execute_result"
        }
      ],
      "source": [
        "dataset_vocab - tokenizer_vocab"
      ]
    },
    {
      "cell_type": "markdown",
      "metadata": {
        "id": "FfagjIIaojrR"
      },
      "source": [
        "To handle the unsupported characters identified in the previous step, define a function that maps these characters to\n",
        "valid tokens. Note that spaces are already replaced by `▁` in the tokenizer and don't need to be handled separately."
      ]
    },
    {
      "cell_type": "code",
      "execution_count": null,
      "metadata": {
        "id": "LLJaNR5IojrS"
      },
      "outputs": [],
      "source": [
        "replacements = [\n",
        "    (\"à\", \"a\"),\n",
        "    (\"ç\", \"c\"),\n",
        "    (\"è\", \"e\"),\n",
        "    (\"ë\", \"e\"),\n",
        "    (\"í\", \"i\"),\n",
        "    (\"ï\", \"i\"),\n",
        "    (\"ö\", \"o\"),\n",
        "    (\"ü\", \"u\"),\n",
        "]\n",
        "\n",
        "\n",
        "def cleanup_text(inputs):\n",
        "    for src, dst in replacements:\n",
        "        inputs[\"normalized_text\"] = inputs[\"normalized_text\"].replace(src, dst)\n",
        "    return inputs\n",
        "\n",
        "\n",
        "dataset = dataset.map(cleanup_text)"
      ]
    },
    {
      "cell_type": "markdown",
      "metadata": {
        "id": "Re88OaBbojrS"
      },
      "source": [
        "Now that you have dealt with special characters in the text, it's time to shift focus to the audio data."
      ]
    },
    {
      "cell_type": "markdown",
      "metadata": {
        "id": "wCdhWddGojrS"
      },
      "source": [
        "### Speakers"
      ]
    },
    {
      "cell_type": "markdown",
      "metadata": {
        "id": "4bgBF-QaojrS"
      },
      "source": [
        "The VoxPopuli dataset includes speech from multiple speakers, but how many speakers are represented in the dataset? To\n",
        "determine this, we can count the number of unique speakers and the number of examples each speaker contributes to the dataset.\n",
        "With a total of 20,968 examples in the dataset, this information will give us a better understanding of the distribution of\n",
        "speakers and examples in the data."
      ]
    },
    {
      "cell_type": "code",
      "execution_count": null,
      "metadata": {
        "id": "PyaiPY3xojrS"
      },
      "outputs": [],
      "source": [
        "from collections import defaultdict\n",
        "\n",
        "speaker_counts = defaultdict(int)\n",
        "\n",
        "for speaker_id in dataset[\"speaker_id\"]:\n",
        "    speaker_counts[speaker_id] += 1"
      ]
    },
    {
      "cell_type": "markdown",
      "metadata": {
        "id": "QRSxO4stojrS"
      },
      "source": [
        "By plotting a histogram you can get a sense of how much data there is for each speaker."
      ]
    },
    {
      "cell_type": "code",
      "execution_count": null,
      "metadata": {
        "id": "Wlv-Sc8uojrT"
      },
      "outputs": [],
      "source": [
        "import matplotlib.pyplot as plt\n",
        "\n",
        "plt.figure()\n",
        "plt.hist(speaker_counts.values(), bins=20)\n",
        "plt.ylabel(\"Speakers\")\n",
        "plt.xlabel(\"Examples\")\n",
        "plt.show()"
      ]
    },
    {
      "cell_type": "markdown",
      "metadata": {
        "id": "fg69FIzIojrT"
      },
      "source": [
        "<div class=\"flex justify-center\">\n",
        "    <img src=\"https://huggingface.co/datasets/huggingface/documentation-images/resolve/main/transformers/tasks/tts_speakers_histogram.png\" alt=\"Speakers histogram\"/>\n",
        "</div>\n",
        "\n",
        "The histogram reveals that approximately one-third of the speakers in the dataset have fewer than 100 examples, while\n",
        "around ten speakers have more than 500 examples. To improve training efficiency and balance the dataset, we can limit\n",
        "the data to speakers with between 100 and 400 examples."
      ]
    },
    {
      "cell_type": "code",
      "execution_count": null,
      "metadata": {
        "id": "sjWKzsuYojrT"
      },
      "outputs": [],
      "source": [
        "def select_speaker(speaker_id):\n",
        "    return 100 <= speaker_counts[speaker_id] <= 400\n",
        "\n",
        "\n",
        "dataset = dataset.filter(select_speaker, input_columns=[\"speaker_id\"])"
      ]
    },
    {
      "cell_type": "markdown",
      "metadata": {
        "id": "dxeE2RykojrT"
      },
      "source": [
        "Let's check how many speakers remain:"
      ]
    },
    {
      "cell_type": "code",
      "execution_count": null,
      "metadata": {
        "id": "kX4pmHT4ojrU",
        "outputId": "a7e73bc4-4db9-461b-9d23-c8805e81e6db"
      },
      "outputs": [
        {
          "data": {
            "text/plain": [
              "42"
            ]
          },
          "execution_count": null,
          "metadata": {},
          "output_type": "execute_result"
        }
      ],
      "source": [
        "len(set(dataset[\"speaker_id\"]))"
      ]
    },
    {
      "cell_type": "markdown",
      "metadata": {
        "id": "3R-BUpoLojrU"
      },
      "source": [
        "Let's see how many examples are left:"
      ]
    },
    {
      "cell_type": "code",
      "execution_count": null,
      "metadata": {
        "id": "Z-UJyAzPojrV",
        "outputId": "5745a98f-33d3-4ec1-b000-9dbc3cf9a6f4"
      },
      "outputs": [
        {
          "data": {
            "text/plain": [
              "9973"
            ]
          },
          "execution_count": null,
          "metadata": {},
          "output_type": "execute_result"
        }
      ],
      "source": [
        "len(dataset)"
      ]
    },
    {
      "cell_type": "markdown",
      "metadata": {
        "id": "OxOGXy3SojrV"
      },
      "source": [
        "You are left with just under 10,000 examples from approximately 40 unique speakers, which should be sufficient.\n",
        "\n",
        "Note that some speakers with few examples may actually have more audio available if the examples are long. However,\n",
        "determining the total amount of audio for each speaker requires scanning through the entire dataset, which is a\n",
        "time-consuming process that involves loading and decoding each audio file. As such, we have chosen to skip this step here."
      ]
    },
    {
      "cell_type": "markdown",
      "metadata": {
        "id": "vheE565MojrV"
      },
      "source": [
        "### Speaker embeddings"
      ]
    },
    {
      "cell_type": "markdown",
      "metadata": {
        "id": "o7dWFCf5ojrV"
      },
      "source": [
        "To enable the TTS model to differentiate between multiple speakers, you'll need to create a speaker embedding for each example.\n",
        "The speaker embedding is an additional input into the model that captures a particular speaker's voice characteristics.\n",
        "To generate these speaker embeddings, use the pre-trained [spkrec-xvect-voxceleb](https://huggingface.co/speechbrain/spkrec-xvect-voxceleb)\n",
        "model from SpeechBrain.\n",
        "\n",
        "Create a function `create_speaker_embedding()` that takes an input audio waveform and outputs a 512-element vector\n",
        "containing the corresponding speaker embedding."
      ]
    },
    {
      "cell_type": "code",
      "execution_count": null,
      "metadata": {
        "id": "-Zv9T8PJojrV"
      },
      "outputs": [],
      "source": [
        "import os\n",
        "import torch\n",
        "from speechbrain.pretrained import EncoderClassifier\n",
        "\n",
        "spk_model_name = \"speechbrain/spkrec-xvect-voxceleb\"\n",
        "\n",
        "device = \"cuda\" if torch.cuda.is_available() else \"cpu\"\n",
        "speaker_model = EncoderClassifier.from_hparams(\n",
        "    source=spk_model_name,\n",
        "    run_opts={\"device\": device},\n",
        "    savedir=os.path.join(\"/tmp\", spk_model_name),\n",
        ")\n",
        "\n",
        "\n",
        "def create_speaker_embedding(waveform):\n",
        "    with torch.no_grad():\n",
        "        speaker_embeddings = speaker_model.encode_batch(torch.tensor(waveform))\n",
        "        speaker_embeddings = torch.nn.functional.normalize(speaker_embeddings, dim=2)\n",
        "        speaker_embeddings = speaker_embeddings.squeeze().cpu().numpy()\n",
        "    return speaker_embeddings"
      ]
    },
    {
      "cell_type": "markdown",
      "metadata": {
        "id": "22Js72q-ojrW"
      },
      "source": [
        "It's important to note that the `speechbrain/spkrec-xvect-voxceleb` model was trained on English speech from the VoxCeleb\n",
        "dataset, whereas the training examples in this guide are in Dutch. While we believe that this model will still generate\n",
        "reasonable speaker embeddings for our Dutch dataset, this assumption may not hold true in all cases.\n",
        "\n",
        "For optimal results, we recommend training an X-vector model on the target speech first. This will ensure that the model\n",
        "is better able to capture the unique voice characteristics present in the Dutch language."
      ]
    },
    {
      "cell_type": "markdown",
      "metadata": {
        "id": "Tj0yTrV1ojrW"
      },
      "source": [
        "### Processing the dataset"
      ]
    },
    {
      "cell_type": "markdown",
      "metadata": {
        "id": "X1Bw-SZbojrc"
      },
      "source": [
        "Finally, let's process the data into the format the model expects. Create a `prepare_dataset` function that takes in a\n",
        "single example and uses the `SpeechT5Processor` object to tokenize the input text and load the target audio into a log-mel spectrogram.\n",
        "It should also add the speaker embeddings as an additional input."
      ]
    },
    {
      "cell_type": "code",
      "execution_count": null,
      "metadata": {
        "id": "3A6UobeKojrc"
      },
      "outputs": [],
      "source": [
        "def prepare_dataset(example):\n",
        "    audio = example[\"audio\"]\n",
        "\n",
        "    example = processor(\n",
        "        text=example[\"normalized_text\"],\n",
        "        audio_target=audio[\"array\"],\n",
        "        sampling_rate=audio[\"sampling_rate\"],\n",
        "        return_attention_mask=False,\n",
        "    )\n",
        "\n",
        "    # strip off the batch dimension\n",
        "    example[\"labels\"] = example[\"labels\"][0]\n",
        "\n",
        "    # use SpeechBrain to obtain x-vector\n",
        "    example[\"speaker_embeddings\"] = create_speaker_embedding(audio[\"array\"])\n",
        "\n",
        "    return example"
      ]
    },
    {
      "cell_type": "markdown",
      "metadata": {
        "id": "I6ANhUfYojrc"
      },
      "source": [
        "Verify the processing is correct by looking at a single example:"
      ]
    },
    {
      "cell_type": "code",
      "execution_count": null,
      "metadata": {
        "id": "PbyGS_UJojrc",
        "outputId": "1b1d0851-a3b4-4829-e90e-b475e7c3b9c9"
      },
      "outputs": [
        {
          "data": {
            "text/plain": [
              "['input_ids', 'labels', 'stop_labels', 'speaker_embeddings']"
            ]
          },
          "execution_count": null,
          "metadata": {},
          "output_type": "execute_result"
        }
      ],
      "source": [
        "processed_example = prepare_dataset(dataset[0])\n",
        "list(processed_example.keys())"
      ]
    },
    {
      "cell_type": "markdown",
      "metadata": {
        "id": "gn1zSNAtojrc"
      },
      "source": [
        "Speaker embeddings should be a 512-element vector:"
      ]
    },
    {
      "cell_type": "code",
      "execution_count": null,
      "metadata": {
        "id": "UmLN2C_iojrd",
        "outputId": "93d84ead-1fef-4d11-8e46-bc7ed3097dcf"
      },
      "outputs": [
        {
          "data": {
            "text/plain": [
              "(512,)"
            ]
          },
          "execution_count": null,
          "metadata": {},
          "output_type": "execute_result"
        }
      ],
      "source": [
        "processed_example[\"speaker_embeddings\"].shape"
      ]
    },
    {
      "cell_type": "markdown",
      "metadata": {
        "id": "3u_JyLreojrd"
      },
      "source": [
        "The labels should be a log-mel spectrogram with 80 mel bins."
      ]
    },
    {
      "cell_type": "code",
      "execution_count": null,
      "metadata": {
        "id": "VExVSGu_ojrd"
      },
      "outputs": [],
      "source": [
        "import matplotlib.pyplot as plt\n",
        "\n",
        "plt.figure()\n",
        "plt.imshow(processed_example[\"labels\"].T)\n",
        "plt.show()"
      ]
    },
    {
      "cell_type": "markdown",
      "metadata": {
        "id": "rg9LC1Elojrd"
      },
      "source": [
        "<div class=\"flex justify-center\">\n",
        "    <img src=\"https://huggingface.co/datasets/huggingface/documentation-images/resolve/main/transformers/tasks/tts_logmelspectrogram_1.png\" alt=\"Log-mel spectrogram with 80 mel bins\"/>\n",
        "</div>\n",
        "\n",
        "Side note: If you find this spectrogram confusing, it may be due to your familiarity with the convention of placing low frequencies\n",
        "at the bottom and high frequencies at the top of a plot. However, when plotting spectrograms as an image using the matplotlib library,\n",
        "the y-axis is flipped and the spectrograms appear upside down.\n",
        "\n",
        "Now apply the processing function to the entire dataset. This will take between 5 and 10 minutes."
      ]
    },
    {
      "cell_type": "code",
      "execution_count": null,
      "metadata": {
        "id": "r0NLIHXMojrd"
      },
      "outputs": [],
      "source": [
        "dataset = dataset.map(prepare_dataset, remove_columns=dataset.column_names)"
      ]
    },
    {
      "cell_type": "markdown",
      "metadata": {
        "id": "AlLeuwKIojre"
      },
      "source": [
        "You'll see a warning saying that some examples in the dataset are longer than the maximum input length the model can handle (600 tokens).\n",
        "Remove those examples from the dataset. Here we go even further and to allow for larger batch sizes we remove anything over 200 tokens."
      ]
    },
    {
      "cell_type": "code",
      "execution_count": null,
      "metadata": {
        "id": "5Q3Gs0BWojre",
        "outputId": "6b086d4a-dc86-483b-a45d-9781d07ef607"
      },
      "outputs": [
        {
          "data": {
            "text/plain": [
              "8259"
            ]
          },
          "execution_count": null,
          "metadata": {},
          "output_type": "execute_result"
        }
      ],
      "source": [
        "def is_not_too_long(input_ids):\n",
        "    input_length = len(input_ids)\n",
        "    return input_length < 200\n",
        "\n",
        "\n",
        "dataset = dataset.filter(is_not_too_long, input_columns=[\"input_ids\"])\n",
        "len(dataset)"
      ]
    },
    {
      "cell_type": "markdown",
      "metadata": {
        "id": "exkO_nWgojre"
      },
      "source": [
        "Next, create a basic train/test split:"
      ]
    },
    {
      "cell_type": "code",
      "execution_count": null,
      "metadata": {
        "id": "Zzxi0cobojrf"
      },
      "outputs": [],
      "source": [
        "dataset = dataset.train_test_split(test_size=0.1)"
      ]
    },
    {
      "cell_type": "markdown",
      "metadata": {
        "id": "mXRvpCQYojrf"
      },
      "source": [
        "### Data collator"
      ]
    },
    {
      "cell_type": "markdown",
      "metadata": {
        "id": "1xH7HMPuojrf"
      },
      "source": [
        "In order to combine multiple examples into a batch, you need to define a custom data collator. This collator will pad shorter sequences with padding\n",
        "tokens, ensuring that all examples have the same length. For the spectrogram labels, the padded portions are replaced with the special value `-100`. This special value\n",
        "instructs the model to ignore that part of the spectrogram when calculating the spectrogram loss."
      ]
    },
    {
      "cell_type": "code",
      "execution_count": null,
      "metadata": {
        "id": "VlUqy5V4ojrf"
      },
      "outputs": [],
      "source": [
        "from dataclasses import dataclass\n",
        "from typing import Any, Dict, List, Union\n",
        "\n",
        "\n",
        "@dataclass\n",
        "class TTSDataCollatorWithPadding:\n",
        "    processor: Any\n",
        "\n",
        "    def __call__(self, features: List[Dict[str, Union[List[int], torch.Tensor]]]) -> Dict[str, torch.Tensor]:\n",
        "        input_ids = [{\"input_ids\": feature[\"input_ids\"]} for feature in features]\n",
        "        label_features = [{\"input_values\": feature[\"labels\"]} for feature in features]\n",
        "        speaker_features = [feature[\"speaker_embeddings\"] for feature in features]\n",
        "\n",
        "        # collate the inputs and targets into a batch\n",
        "        batch = processor.pad(input_ids=input_ids, labels=label_features, return_tensors=\"pt\")\n",
        "\n",
        "        # replace padding with -100 to ignore loss correctly\n",
        "        batch[\"labels\"] = batch[\"labels\"].masked_fill(batch.decoder_attention_mask.unsqueeze(-1).ne(1), -100)\n",
        "\n",
        "        # not used during fine-tuning\n",
        "        del batch[\"decoder_attention_mask\"]\n",
        "\n",
        "        # round down target lengths to multiple of reduction factor\n",
        "        if model.config.reduction_factor > 1:\n",
        "            target_lengths = torch.tensor([len(feature[\"input_values\"]) for feature in label_features])\n",
        "            target_lengths = target_lengths.new(\n",
        "                [length - length % model.config.reduction_factor for length in target_lengths]\n",
        "            )\n",
        "            max_length = max(target_lengths)\n",
        "            batch[\"labels\"] = batch[\"labels\"][:, :max_length]\n",
        "\n",
        "        # also add in the speaker embeddings\n",
        "        batch[\"speaker_embeddings\"] = torch.tensor(speaker_features)\n",
        "\n",
        "        return batch"
      ]
    },
    {
      "cell_type": "markdown",
      "metadata": {
        "id": "QXdnPs3Eojrf"
      },
      "source": [
        "In SpeechT5, the input to the decoder part of the model is reduced by a factor 2. In other words, it throws away every\n",
        "other timestep from the target sequence. The decoder then predicts a sequence that is twice as long. Since the original\n",
        "target sequence length may be odd, the data collator makes sure to round the maximum length of the batch down to be a\n",
        "multiple of 2."
      ]
    },
    {
      "cell_type": "code",
      "execution_count": null,
      "metadata": {
        "id": "zgtOW0D2ojrg"
      },
      "outputs": [],
      "source": [
        "data_collator = TTSDataCollatorWithPadding(processor=processor)"
      ]
    },
    {
      "cell_type": "markdown",
      "metadata": {
        "id": "Aere5lqOojrg"
      },
      "source": [
        "## Train the model"
      ]
    },
    {
      "cell_type": "markdown",
      "metadata": {
        "id": "T9YU9GqZojrg"
      },
      "source": [
        "Load the pre-trained model from the same checkpoint as you used for loading the processor:"
      ]
    },
    {
      "cell_type": "code",
      "execution_count": null,
      "metadata": {
        "id": "La140mqsojrg"
      },
      "outputs": [],
      "source": [
        "from transformers import SpeechT5ForTextToSpeech\n",
        "\n",
        "model = SpeechT5ForTextToSpeech.from_pretrained(checkpoint)"
      ]
    },
    {
      "cell_type": "markdown",
      "metadata": {
        "id": "t2M46Am4ojrg"
      },
      "source": [
        "The `use_cache=True` option is incompatible with gradient checkpointing. Disable it for training."
      ]
    },
    {
      "cell_type": "code",
      "execution_count": null,
      "metadata": {
        "id": "x8PBTFvPojrg"
      },
      "outputs": [],
      "source": [
        "model.config.use_cache = False"
      ]
    },
    {
      "cell_type": "markdown",
      "metadata": {
        "id": "KcpuL3yXojrh"
      },
      "source": [
        "Define the training arguments. Here we are not computing any evaluation metrics during the training process. Instead, we'll\n",
        "only look at the loss:"
      ]
    },
    {
      "cell_type": "code",
      "execution_count": null,
      "metadata": {
        "id": "xJNScIV5ojrh"
      },
      "outputs": [],
      "source": [
        "from transformers import Seq2SeqTrainingArguments\n",
        "\n",
        "training_args = Seq2SeqTrainingArguments(\n",
        "    output_dir=\"speecht5_finetuned_voxpopuli_nl\",  # change to a repo name of your choice\n",
        "    per_device_train_batch_size=4,\n",
        "    gradient_accumulation_steps=8,\n",
        "    learning_rate=1e-5,\n",
        "    warmup_steps=500,\n",
        "    max_steps=4000,\n",
        "    gradient_checkpointing=True,\n",
        "    fp16=True,\n",
        "    evaluation_strategy=\"steps\",\n",
        "    per_device_eval_batch_size=2,\n",
        "    save_steps=1000,\n",
        "    eval_steps=1000,\n",
        "    logging_steps=25,\n",
        "    report_to=[\"tensorboard\"],\n",
        "    load_best_model_at_end=True,\n",
        "    greater_is_better=False,\n",
        "    label_names=[\"labels\"],\n",
        "    push_to_hub=True,\n",
        ")"
      ]
    },
    {
      "cell_type": "markdown",
      "metadata": {
        "id": "B23MksTwojrh"
      },
      "source": [
        "Instantiate the `Trainer` object  and pass the model, dataset, and data collator to it."
      ]
    },
    {
      "cell_type": "code",
      "execution_count": null,
      "metadata": {
        "id": "jUZCNzfzojrh"
      },
      "outputs": [],
      "source": [
        "from transformers import Seq2SeqTrainer\n",
        "\n",
        "trainer = Seq2SeqTrainer(\n",
        "    args=training_args,\n",
        "    model=model,\n",
        "    train_dataset=dataset[\"train\"],\n",
        "    eval_dataset=dataset[\"test\"],\n",
        "    data_collator=data_collator,\n",
        "    tokenizer=processor,\n",
        ")"
      ]
    },
    {
      "cell_type": "markdown",
      "metadata": {
        "id": "UNoBlUnZojrh"
      },
      "source": [
        "And with that, you're ready to start training! Training will take several hours. Depending on your GPU,\n",
        "it is possible that you will encounter a CUDA \"out-of-memory\" error when you start training. In this case, you can reduce\n",
        "the `per_device_train_batch_size` incrementally by factors of 2 and increase `gradient_accumulation_steps` by 2x to compensate."
      ]
    },
    {
      "cell_type": "code",
      "execution_count": null,
      "metadata": {
        "id": "P9wXOcUDojrh"
      },
      "outputs": [],
      "source": [
        "trainer.train()"
      ]
    },
    {
      "cell_type": "markdown",
      "metadata": {
        "id": "XYajI_Faojri"
      },
      "source": [
        "Push the final model to the 🤗 Hub:"
      ]
    },
    {
      "cell_type": "code",
      "execution_count": null,
      "metadata": {
        "id": "sih2itcWojri"
      },
      "outputs": [],
      "source": [
        "trainer.push_to_hub()"
      ]
    },
    {
      "cell_type": "markdown",
      "metadata": {
        "id": "e0lve4YIojri"
      },
      "source": [
        "## Inference"
      ]
    },
    {
      "cell_type": "markdown",
      "metadata": {
        "id": "XlV2oNalojri"
      },
      "source": [
        "Great, now that you've fine-tuned a model, you can use it for inference!\n",
        "Load the model from the 🤗 Hub (make sure to use your account name in the following code snippet):"
      ]
    },
    {
      "cell_type": "code",
      "execution_count": null,
      "metadata": {
        "id": "drpDUYPYojri"
      },
      "outputs": [],
      "source": [
        "model = SpeechT5ForTextToSpeech.from_pretrained(\"YOUR_ACCOUNT/speecht5_finetuned_voxpopuli_nl\")"
      ]
    },
    {
      "cell_type": "markdown",
      "metadata": {
        "id": "nsQfyqO6ojri"
      },
      "source": [
        "Pick an example, here we'll take one from the test dataset. Obtain a speaker embedding."
      ]
    },
    {
      "cell_type": "code",
      "execution_count": null,
      "metadata": {
        "id": "z5dNrdwxojri"
      },
      "outputs": [],
      "source": [
        "example = dataset[\"test\"][304]\n",
        "speaker_embeddings = torch.tensor(example[\"speaker_embeddings\"]).unsqueeze(0)"
      ]
    },
    {
      "cell_type": "markdown",
      "metadata": {
        "id": "JuoiUjGhojri"
      },
      "source": [
        "Define some input text and tokenize it."
      ]
    },
    {
      "cell_type": "code",
      "execution_count": null,
      "metadata": {
        "id": "QC_ScC0Rojrj"
      },
      "outputs": [],
      "source": [
        "text = \"hallo allemaal, ik praat nederlands. groetjes aan iedereen!\""
      ]
    },
    {
      "cell_type": "markdown",
      "metadata": {
        "id": "djn6RT2sojrj"
      },
      "source": [
        "Preprocess the input text:"
      ]
    },
    {
      "cell_type": "code",
      "execution_count": null,
      "metadata": {
        "id": "6Zl7OFwEojrj"
      },
      "outputs": [],
      "source": [
        "inputs = processor(text=text, return_tensors=\"pt\")"
      ]
    },
    {
      "cell_type": "markdown",
      "metadata": {
        "id": "kp3nvp4bojrj"
      },
      "source": [
        "Create a spectrogram with your model:"
      ]
    },
    {
      "cell_type": "code",
      "execution_count": null,
      "metadata": {
        "id": "CcN19yQ9ojrk"
      },
      "outputs": [],
      "source": [
        "spectrogram = model.generate_speech(inputs[\"input_ids\"], speaker_embeddings)"
      ]
    },
    {
      "cell_type": "markdown",
      "metadata": {
        "id": "_P7G3Pivojrk"
      },
      "source": [
        "Visualize the spectrogram, if you'd like to:"
      ]
    },
    {
      "cell_type": "code",
      "execution_count": null,
      "metadata": {
        "id": "AVDyDApJojrk"
      },
      "outputs": [],
      "source": [
        "plt.figure()\n",
        "plt.imshow(spectrogram.T)\n",
        "plt.show()"
      ]
    },
    {
      "cell_type": "markdown",
      "metadata": {
        "id": "r3Tkzu21ojrl"
      },
      "source": [
        "<div class=\"flex justify-center\">\n",
        "    <img src=\"https://huggingface.co/datasets/huggingface/documentation-images/resolve/main/transformers/tasks/tts_logmelspectrogram_2.png\" alt=\"Generated log-mel spectrogram\"/>\n",
        "</div>\n",
        "\n",
        "Finally, use the vocoder to turn the spectrogram into sound."
      ]
    },
    {
      "cell_type": "code",
      "execution_count": null,
      "metadata": {
        "id": "W6SKi5rSojrl"
      },
      "outputs": [],
      "source": [
        "with torch.no_grad():\n",
        "    speech = vocoder(spectrogram)\n",
        "\n",
        "from IPython.display import Audio\n",
        "\n",
        "Audio(speech.numpy(), rate=16000)"
      ]
    },
    {
      "cell_type": "markdown",
      "metadata": {
        "id": "iE0NmYmEojrl"
      },
      "source": [
        "In our experience, obtaining satisfactory results from this model can be challenging. The quality of the speaker\n",
        "embeddings appears to be a significant factor. Since SpeechT5 was pre-trained with English x-vectors, it performs best\n",
        "when using English speaker embeddings. If the synthesized speech sounds poor, try using a different speaker embedding.\n",
        "\n",
        "Increasing the training duration is also likely to enhance the quality of the results. Even so, the speech clearly is Dutch instead of English, and it does\n",
        "capture the voice characteristics of the speaker (compare to the original audio in the example).\n",
        "Another thing to experiment with is the model's configuration. For example, try using `config.reduction_factor = 1` to\n",
        "see if this improves the results.\n",
        "\n",
        "Finally, it is essential to consider ethical considerations. Although TTS technology has numerous useful applications, it\n",
        "may also be used for malicious purposes, such as impersonating someone's voice without their knowledge or consent. Please\n",
        "use TTS judiciously and responsibly."
      ]
    }
  ],
  "metadata": {
    "colab": {
      "provenance": []
    }
  },
  "nbformat": 4,
  "nbformat_minor": 0
}